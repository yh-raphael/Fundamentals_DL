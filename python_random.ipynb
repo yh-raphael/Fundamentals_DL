{
 "cells": [
  {
   "cell_type": "code",
   "execution_count": 48,
   "metadata": {},
   "outputs": [
    {
     "name": "stdout",
     "output_type": "stream",
     "text": [
      "5\n",
      "[3, 5, 2]\n",
      "[2, 5, 2]\n",
      "[2 5 2]\n"
     ]
    }
   ],
   "source": [
    "import random\n",
    "\n",
    "seq = [1, 2, 3, 4, 5]\n",
    "random_choice = random.choice(seq)\n",
    "print(random_choice)\n",
    "random_choices = random.sample(seq, 3)\n",
    "print(random_choices)\n",
    "random_choicess = random.choices(seq, k=3)\n",
    "print(random_choicess)\n",
    "\n",
    "import numpy as np\n",
    "rr = np.array (random_choicess)\n",
    "print (rr)"
   ]
  },
  {
   "cell_type": "code",
   "execution_count": 1,
   "metadata": {},
   "outputs": [
    {
     "name": "stdout",
     "output_type": "stream",
     "text": [
      "[3 4]\n",
      "<class 'numpy.ndarray'>\n"
     ]
    }
   ],
   "source": [
    "import numpy as np\n",
    "\n",
    "aa = np.array ([1,2,3,4,5])\n",
    "bb = np.random.choice (aa, 2)\n",
    "print (bb)\n",
    "print (type(bb))"
   ]
  },
  {
   "cell_type": "code",
   "execution_count": 3,
   "metadata": {},
   "outputs": [
    {
     "name": "stdout",
     "output_type": "stream",
     "text": [
      "[0. 0. 0.]\n",
      "[[1.]\n",
      " [1.]\n",
      " [1.]]\n"
     ]
    }
   ],
   "source": [
    "aaa = np.zeros ([3])\n",
    "print (aaa)\n",
    "\n",
    "bbb = np.ones ([3,1])\n",
    "print (bbb)"
   ]
  },
  {
   "cell_type": "code",
   "execution_count": null,
   "metadata": {},
   "outputs": [],
   "source": []
  }
 ],
 "metadata": {
  "kernelspec": {
   "display_name": "cs231n",
   "language": "python",
   "name": "python3"
  },
  "language_info": {
   "codemirror_mode": {
    "name": "ipython",
    "version": 3
   },
   "file_extension": ".py",
   "mimetype": "text/x-python",
   "name": "python",
   "nbconvert_exporter": "python",
   "pygments_lexer": "ipython3",
   "version": "3.7.16"
  },
  "orig_nbformat": 4
 },
 "nbformat": 4,
 "nbformat_minor": 2
}
