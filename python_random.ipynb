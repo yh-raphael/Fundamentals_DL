{
 "cells": [
  {
   "cell_type": "code",
   "execution_count": 1,
   "metadata": {},
   "outputs": [
    {
     "name": "stdout",
     "output_type": "stream",
     "text": [
      "1\n",
      "[3, 2, 1]\n",
      "[4, 1, 5]\n",
      "[4 1 5]\n"
     ]
    }
   ],
   "source": [
    "import random\n",
    "\n",
    "seq = [1, 2, 3, 4, 5]\n",
    "random_choice = random.choice(seq)\n",
    "print(random_choice)\n",
    "random_choices = random.sample(seq, 3)\n",
    "print(random_choices)\n",
    "random_choicess = random.choices(seq, k=3)\n",
    "print(random_choicess)\n",
    "\n",
    "import numpy as np\n",
    "rr = np.array (random_choicess)\n",
    "print (rr)"
   ]
  },
  {
   "cell_type": "code",
   "execution_count": 2,
   "metadata": {},
   "outputs": [
    {
     "name": "stdout",
     "output_type": "stream",
     "text": [
      "[2 1]\n",
      "<class 'numpy.ndarray'>\n"
     ]
    }
   ],
   "source": [
    "import numpy as np\n",
    "\n",
    "aa = np.array ([1,2,3,4,5])\n",
    "bb = np.random.choice (aa, 2)\n",
    "print (bb)\n",
    "print (type(bb))"
   ]
  },
  {
   "cell_type": "code",
   "execution_count": 3,
   "metadata": {},
   "outputs": [
    {
     "name": "stdout",
     "output_type": "stream",
     "text": [
      "[0. 0. 0.]\n",
      "[[1.]\n",
      " [1.]\n",
      " [1.]]\n"
     ]
    }
   ],
   "source": [
    "aaa = np.zeros ([3])\n",
    "print (aaa)\n",
    "\n",
    "bbb = np.ones ([3,1])\n",
    "print (bbb)"
   ]
  },
  {
   "cell_type": "code",
   "execution_count": 37,
   "metadata": {},
   "outputs": [
    {
     "name": "stdout",
     "output_type": "stream",
     "text": [
      "[[-3.41339847e-04 -5.49263414e-04  4.60985500e-04]\n",
      " [-6.66209417e-04  3.92992901e-04 -5.40375720e-04]\n",
      " [-2.73306174e-05  4.54191271e-04  3.50897312e-04]]\n",
      "[[-0.00030358 -0.00034352  0.00124368]\n",
      " [ 0.00179329 -0.00038829 -0.00073022]\n",
      " [-0.0025359   0.00018277 -0.00079418]]\n"
     ]
    }
   ],
   "source": [
    "hidden_dim = 50\n",
    "input_dim = 5\n",
    "W1_list=[[random.normalvariate(mu=0.0, sigma=0.001) for j in range(hidden_dim)] for i in range(input_dim)]\n",
    "\n",
    "w1 = [ [random.normalvariate (mu=0.0, sigma=0.001) for col in range(hidden_dim)] for row in range(input_dim) ]\n",
    "\n",
    "print (np.array (W1_list)[0:3,0:3])\n",
    "print (np.array (w1)[0:3,0:3])"
   ]
  },
  {
   "cell_type": "code",
   "execution_count": 42,
   "metadata": {},
   "outputs": [
    {
     "name": "stdout",
     "output_type": "stream",
     "text": [
      "[0.0, 0.0, 0.0, 0.0, 0.0, 0.0, 0.0, 0.0, 0.0, 0.0, 0.0, 0.0, 0.0, 0.0, 0.0, 0.0, 0.0, 0.0, 0.0, 0.0, 0.0, 0.0, 0.0, 0.0, 0.0, 0.0, 0.0, 0.0, 0.0, 0.0, 0.0, 0.0, 0.0, 0.0, 0.0, 0.0, 0.0, 0.0, 0.0, 0.0, 0.0, 0.0, 0.0, 0.0, 0.0, 0.0, 0.0, 0.0, 0.0, 0.0]\n",
      "(50,)\n"
     ]
    }
   ],
   "source": [
    "b1 = [0.0 for col in range(hidden_dim)]\n",
    "print (b1)\n",
    "print (np.array(b1).shape)"
   ]
  }
 ],
 "metadata": {
  "kernelspec": {
   "display_name": "cs231n",
   "language": "python",
   "name": "python3"
  },
  "language_info": {
   "codemirror_mode": {
    "name": "ipython",
    "version": 3
   },
   "file_extension": ".py",
   "mimetype": "text/x-python",
   "name": "python",
   "nbconvert_exporter": "python",
   "pygments_lexer": "ipython3",
   "version": "3.7.16"
  },
  "orig_nbformat": 4
 },
 "nbformat": 4,
 "nbformat_minor": 2
}
