{
 "cells": [
  {
   "cell_type": "code",
   "execution_count": 15,
   "metadata": {},
   "outputs": [
    {
     "name": "stdout",
     "output_type": "stream",
     "text": [
      "Using PyTorch version:  1.11.0+cu102  Device:  cuda\n"
     ]
    }
   ],
   "source": [
    "''' 1. Module Import '''\n",
    "import numpy as np\n",
    "import matplotlib.pyplot as plt\n",
    "\n",
    "import torch\n",
    "import torch.nn as nn\n",
    "import torch.nn.functional as F\n",
    "\n",
    "from torchvision import transforms, datasets    # MNIST\n",
    "\n",
    "''' 2. is_available () : accelerating hardware? '''\n",
    "if torch.cuda.is_available ():\n",
    "    DEVICE = torch.device ('cuda')\n",
    "else:\n",
    "    DEVICE = torch.device ('cpu')\n",
    "\n",
    "print ('Using PyTorch version: ', torch.__version__, ' Device: ', DEVICE)\n",
    "\n",
    "BATCH_SIZE = 32\n",
    "EPOCHS = 10\n",
    "\n",
    "''' 3. MNIST data download + split data into Train set and Test set '''\n",
    "train_dataset = datasets.MNIST (root = \"../data/MNIST\", train = True, download = True,\n",
    "                                transform = transforms.ToTensor ())\n",
    "test_dataset = datasets.MNIST (root = \"../data/MNIST\", train = False,\n",
    "                                transform = transforms.ToTensor ())\n",
    "\n",
    "train_loader = torch.utils.data.DataLoader (dataset = train_dataset,\n",
    "                                            batch_size = BATCH_SIZE,\n",
    "                                            shuffle = True)\n",
    "test_loader = torch.utils.data.DataLoader (dataset = test_dataset,\n",
    "                                            batch_size = BATCH_SIZE,\n",
    "                                            shuffle = False)\n",
    "\n"
   ]
  },
  {
   "cell_type": "code",
   "execution_count": 16,
   "metadata": {},
   "outputs": [
    {
     "name": "stdout",
     "output_type": "stream",
     "text": [
      "X_train:  torch.Size([32, 1, 28, 28]) type:  torch.FloatTensor\n",
      "y_train:  torch.Size([32]) type:  torch.LongTensor\n"
     ]
    },
    {
     "data": {
      "text/plain": [
       "' 6. MLP model design '"
      ]
     },
     "execution_count": 16,
     "metadata": {},
     "output_type": "execute_result"
    },
    {
     "data": {
      "image/png": "[encoded data removed]",
      "text/plain": [
       "<Figure size 720x72 with 10 Axes>"
      ]
     },
     "metadata": {
      "needs_background": "light"
     },
     "output_type": "display_data"
    }
   ],
   "source": [
    "''' 4. Check the data '''\n",
    "for (X_train, y_train) in train_loader:\n",
    "    print ('X_train: ', X_train.size (), 'type: ', X_train.type ())\n",
    "    print ('y_train: ', y_train.size (), 'type: ', y_train.type ())\n",
    "    break   # end of the loop.\n",
    "\n",
    "''' 5. Check the data '''\n",
    "pltsize = 1\n",
    "plt.figure (figsize = (10 * pltsize, pltsize))\n",
    "\n",
    "for i in range (10):\n",
    "    plt.subplot (1, 10, i + 1)\n",
    "    plt.axis ('on')\n",
    "    plt.imshow (X_train[i, :, :, :].numpy ().reshape (28, 28), cmap = \"gray_r\")\n",
    "    plt.title ('Class: ' + str (y_train[i].item ()))\n",
    "\n",
    "''' 6. MLP model design '''"
   ]
  },
  {
   "cell_type": "code",
   "execution_count": 17,
   "metadata": {},
   "outputs": [
    {
     "name": "stdout",
     "output_type": "stream",
     "text": [
      "Net(\n",
      "  (fc1): Linear(in_features=784, out_features=512, bias=True)\n",
      "  (fc2): Linear(in_features=512, out_features=256, bias=True)\n",
      "  (fc3): Linear(in_features=256, out_features=10, bias=True)\n",
      ")\n",
      "<class '__main__.Net'>\n"
     ]
    }
   ],
   "source": [
    "''' 6. MLP model design '''\n",
    "class Net (nn.Module):\n",
    "    def __init__ (self):\n",
    "        super (Net, self).__init__()\n",
    "        self.fc1 = nn.Linear (28 * 28, 512)\n",
    "        self.fc2 = nn.Linear (512, 256)\n",
    "        self.fc3 = nn.Linear (256, 10)\n",
    "        self.dropout_prob = 0.5\n",
    "\n",
    "    def forward (self, x):\n",
    "        x = x.view (-1, 28 * 28)\n",
    "        x = self.fc1 (x)\n",
    "        x = F.relu (x)\n",
    "        x = F.dropout (x, training = self.training, p = self.dropout_prob)\n",
    "\n",
    "        x = self.fc2 (x)\n",
    "        x = F.relu (x)\n",
    "        x = F.dropout (x, training = self.training, p = self.dropout_prob)\n",
    "\n",
    "        x = self.fc3 (x)\n",
    "        x = F.log_softmax (x, dim = 1)\n",
    "        \n",
    "        return x\n",
    "\n",
    "''' 7. Optimizer, Objective Function setting '''\n",
    "model = Net ().to (DEVICE)\n",
    "optimizer = torch.optim.SGD (model.parameters (), lr = 0.01, momentum = 0.5)\n",
    "criterion = nn.CrossEntropyLoss ()\n",
    "\n",
    "print (model)\n",
    "print (type(model))"
   ]
  },
  {
   "cell_type": "code",
   "execution_count": 18,
   "metadata": {},
   "outputs": [],
   "source": [
    "''' 8. MLP training, checking the accuracy '''\n",
    "def train (model, train_loader, optimizer, log_interval):\n",
    "    model.train ()\n",
    "    \n",
    "    for batch_idx, (image, label) in enumerate (train_loader):\n",
    "        image = image.to (DEVICE)\n",
    "        label = label.to (DEVICE)\n",
    "        \n",
    "        optimizer.zero_grad ()      # clear the gradient used prior\n",
    "\n",
    "        output = model (image)              # forward pass\n",
    "        loss = criterion (output, label)    # CrossEntropy: calculating the loss value\n",
    "\n",
    "        loss.backward ()    # apply the gradient for each parameter\n",
    "        optimizer.step ()   # weight update using the gradient\n",
    "\n",
    "        if batch_idx % log_interval == 0:\n",
    "            print (\"Train Epoch: {} [{}/{}({:.0f}%)]\\t Train Loss: {:.6f}\".format(Epoch, batch_idx * len(image),\n",
    "                    len (train_loader.dataset), 100. * batch_idx / len (train_loader), loss.item ()))\n"
   ]
  },
  {
   "cell_type": "code",
   "execution_count": 19,
   "metadata": {},
   "outputs": [],
   "source": [
    "''' 9. Evaluating during training '''\n",
    "def evaluate (model, test_loader):\n",
    "    model.eval ()\n",
    "    test_loss = 0\n",
    "    correct = 0\n",
    "\n",
    "    with torch.no_grad ():\n",
    "        for image, label in test_loader:\n",
    "            image = image.to (DEVICE)\n",
    "            label = label.to (DEVICE)\n",
    "\n",
    "            output = model (image)\n",
    "\n",
    "            test_loss += criterion (output, label).item ()\n",
    "            prediction = output.max (1, keepdim = True) [1]\n",
    "            correct += prediction.eq (label.view_as (prediction)).sum ().item ()\n",
    "\n",
    "    test_loss /= len (test_loader.dataset)\n",
    "    test_accuracy = 100. * correct / len (test_loader.dataset)\n",
    "    return test_loss, test_accuracy"
   ]
  },
  {
   "cell_type": "code",
   "execution_count": 20,
   "metadata": {},
   "outputs": [
    {
     "name": "stdout",
     "output_type": "stream",
     "text": [
      "Train Epoch: 1 [0/60000(0%)]\t Train Loss: 2.503881\n"
     ]
    },
    {
     "name": "stderr",
     "output_type": "stream",
     "text": [
      "/home/ycho/anaconda3/lib/python3.9/site-packages/torch/nn/functional.py:1944: UserWarning: nn.functional.sigmoid is deprecated. Use torch.sigmoid instead.\n",
      "  warnings.warn(\"nn.functional.sigmoid is deprecated. Use torch.sigmoid instead.\")\n"
     ]
    },
    {
     "name": "stdout",
     "output_type": "stream",
     "text": [
      "Train Epoch: 1 [6400/60000(11%)]\t Train Loss: 2.365476\n",
      "Train Epoch: 1 [12800/60000(21%)]\t Train Loss: 2.330354\n",
      "Train Epoch: 1 [19200/60000(32%)]\t Train Loss: 2.335601\n",
      "Train Epoch: 1 [25600/60000(43%)]\t Train Loss: 2.368753\n",
      "Train Epoch: 1 [32000/60000(53%)]\t Train Loss: 2.286512\n",
      "Train Epoch: 1 [38400/60000(64%)]\t Train Loss: 2.355856\n",
      "Train Epoch: 1 [44800/60000(75%)]\t Train Loss: 2.373369\n",
      "Train Epoch: 1 [51200/60000(85%)]\t Train Loss: 2.269764\n",
      "Train Epoch: 1 [57600/60000(96%)]\t Train Loss: 2.310197\n",
      "\n",
      "[EPOCH: 1], \t Test Loss: 0.0714, \t Test Accuracy: 19.41 % \n",
      "\n",
      "Train Epoch: 2 [0/60000(0%)]\t Train Loss: 2.322386\n",
      "Train Epoch: 2 [6400/60000(11%)]\t Train Loss: 2.293953\n",
      "Train Epoch: 2 [12800/60000(21%)]\t Train Loss: 2.197116\n",
      "Train Epoch: 2 [19200/60000(32%)]\t Train Loss: 2.326995\n",
      "Train Epoch: 2 [25600/60000(43%)]\t Train Loss: 2.228576\n",
      "Train Epoch: 2 [32000/60000(53%)]\t Train Loss: 2.220186\n",
      "Train Epoch: 2 [38400/60000(64%)]\t Train Loss: 2.323701\n",
      "Train Epoch: 2 [44800/60000(75%)]\t Train Loss: 2.148054\n",
      "Train Epoch: 2 [51200/60000(85%)]\t Train Loss: 2.167140\n",
      "Train Epoch: 2 [57600/60000(96%)]\t Train Loss: 2.153728\n",
      "\n",
      "[EPOCH: 2], \t Test Loss: 0.0648, \t Test Accuracy: 31.30 % \n",
      "\n",
      "Train Epoch: 3 [0/60000(0%)]\t Train Loss: 2.028460\n",
      "Train Epoch: 3 [6400/60000(11%)]\t Train Loss: 2.022398\n",
      "Train Epoch: 3 [12800/60000(21%)]\t Train Loss: 1.866184\n",
      "Train Epoch: 3 [19200/60000(32%)]\t Train Loss: 1.872683\n",
      "Train Epoch: 3 [25600/60000(43%)]\t Train Loss: 1.775843\n",
      "Train Epoch: 3 [32000/60000(53%)]\t Train Loss: 1.794510\n",
      "Train Epoch: 3 [38400/60000(64%)]\t Train Loss: 1.627519\n",
      "Train Epoch: 3 [44800/60000(75%)]\t Train Loss: 1.562211\n",
      "Train Epoch: 3 [51200/60000(85%)]\t Train Loss: 1.567788\n",
      "Train Epoch: 3 [57600/60000(96%)]\t Train Loss: 1.302788\n",
      "\n",
      "[EPOCH: 3], \t Test Loss: 0.0380, \t Test Accuracy: 63.20 % \n",
      "\n",
      "Train Epoch: 4 [0/60000(0%)]\t Train Loss: 1.417162\n",
      "Train Epoch: 4 [6400/60000(11%)]\t Train Loss: 1.322862\n",
      "Train Epoch: 4 [12800/60000(21%)]\t Train Loss: 1.238452\n",
      "Train Epoch: 4 [19200/60000(32%)]\t Train Loss: 1.023371\n",
      "Train Epoch: 4 [25600/60000(43%)]\t Train Loss: 1.020385\n",
      "Train Epoch: 4 [32000/60000(53%)]\t Train Loss: 0.960878\n",
      "Train Epoch: 4 [38400/60000(64%)]\t Train Loss: 1.061769\n",
      "Train Epoch: 4 [44800/60000(75%)]\t Train Loss: 0.976141\n",
      "Train Epoch: 4 [51200/60000(85%)]\t Train Loss: 1.059725\n",
      "Train Epoch: 4 [57600/60000(96%)]\t Train Loss: 0.924883\n",
      "\n",
      "[EPOCH: 4], \t Test Loss: 0.0273, \t Test Accuracy: 71.53 % \n",
      "\n",
      "Train Epoch: 5 [0/60000(0%)]\t Train Loss: 0.916104\n",
      "Train Epoch: 5 [6400/60000(11%)]\t Train Loss: 0.715002\n",
      "Train Epoch: 5 [12800/60000(21%)]\t Train Loss: 1.294606\n",
      "Train Epoch: 5 [19200/60000(32%)]\t Train Loss: 0.910283\n",
      "Train Epoch: 5 [25600/60000(43%)]\t Train Loss: 1.036711\n",
      "Train Epoch: 5 [32000/60000(53%)]\t Train Loss: 1.015176\n",
      "Train Epoch: 5 [38400/60000(64%)]\t Train Loss: 0.831895\n",
      "Train Epoch: 5 [44800/60000(75%)]\t Train Loss: 1.106951\n",
      "Train Epoch: 5 [51200/60000(85%)]\t Train Loss: 1.025138\n",
      "Train Epoch: 5 [57600/60000(96%)]\t Train Loss: 0.644667\n",
      "\n",
      "[EPOCH: 5], \t Test Loss: 0.0233, \t Test Accuracy: 76.23 % \n",
      "\n",
      "Train Epoch: 6 [0/60000(0%)]\t Train Loss: 0.933137\n",
      "Train Epoch: 6 [6400/60000(11%)]\t Train Loss: 1.271751\n",
      "Train Epoch: 6 [12800/60000(21%)]\t Train Loss: 0.819819\n",
      "Train Epoch: 6 [19200/60000(32%)]\t Train Loss: 0.712624\n",
      "Train Epoch: 6 [25600/60000(43%)]\t Train Loss: 0.972484\n",
      "Train Epoch: 6 [32000/60000(53%)]\t Train Loss: 0.713914\n",
      "Train Epoch: 6 [38400/60000(64%)]\t Train Loss: 0.671413\n",
      "Train Epoch: 6 [44800/60000(75%)]\t Train Loss: 0.699706\n",
      "Train Epoch: 6 [51200/60000(85%)]\t Train Loss: 0.789784\n",
      "Train Epoch: 6 [57600/60000(96%)]\t Train Loss: 0.994096\n",
      "\n",
      "[EPOCH: 6], \t Test Loss: 0.0204, \t Test Accuracy: 80.28 % \n",
      "\n",
      "Train Epoch: 7 [0/60000(0%)]\t Train Loss: 0.622436\n",
      "Train Epoch: 7 [6400/60000(11%)]\t Train Loss: 0.769421\n",
      "Train Epoch: 7 [12800/60000(21%)]\t Train Loss: 0.677585\n",
      "Train Epoch: 7 [19200/60000(32%)]\t Train Loss: 0.951449\n",
      "Train Epoch: 7 [25600/60000(43%)]\t Train Loss: 0.589197\n",
      "Train Epoch: 7 [32000/60000(53%)]\t Train Loss: 0.317168\n",
      "Train Epoch: 7 [38400/60000(64%)]\t Train Loss: 0.800313\n",
      "Train Epoch: 7 [44800/60000(75%)]\t Train Loss: 0.932415\n",
      "Train Epoch: 7 [51200/60000(85%)]\t Train Loss: 0.976244\n",
      "Train Epoch: 7 [57600/60000(96%)]\t Train Loss: 0.525767\n",
      "\n",
      "[EPOCH: 7], \t Test Loss: 0.0178, \t Test Accuracy: 82.82 % \n",
      "\n",
      "Train Epoch: 8 [0/60000(0%)]\t Train Loss: 0.674857\n",
      "Train Epoch: 8 [6400/60000(11%)]\t Train Loss: 0.903003\n",
      "Train Epoch: 8 [12800/60000(21%)]\t Train Loss: 1.160006\n",
      "Train Epoch: 8 [19200/60000(32%)]\t Train Loss: 0.615518\n",
      "Train Epoch: 8 [25600/60000(43%)]\t Train Loss: 0.634865\n",
      "Train Epoch: 8 [32000/60000(53%)]\t Train Loss: 0.379816\n",
      "Train Epoch: 8 [38400/60000(64%)]\t Train Loss: 0.506846\n",
      "Train Epoch: 8 [44800/60000(75%)]\t Train Loss: 0.662078\n",
      "Train Epoch: 8 [51200/60000(85%)]\t Train Loss: 0.693354\n",
      "Train Epoch: 8 [57600/60000(96%)]\t Train Loss: 0.808098\n",
      "\n",
      "[EPOCH: 8], \t Test Loss: 0.0160, \t Test Accuracy: 84.71 % \n",
      "\n",
      "Train Epoch: 9 [0/60000(0%)]\t Train Loss: 0.854417\n",
      "Train Epoch: 9 [6400/60000(11%)]\t Train Loss: 0.609430\n",
      "Train Epoch: 9 [12800/60000(21%)]\t Train Loss: 0.691009\n",
      "Train Epoch: 9 [19200/60000(32%)]\t Train Loss: 0.451873\n",
      "Train Epoch: 9 [25600/60000(43%)]\t Train Loss: 0.537825\n",
      "Train Epoch: 9 [32000/60000(53%)]\t Train Loss: 0.510679\n",
      "Train Epoch: 9 [38400/60000(64%)]\t Train Loss: 0.401076\n",
      "Train Epoch: 9 [44800/60000(75%)]\t Train Loss: 0.769354\n",
      "Train Epoch: 9 [51200/60000(85%)]\t Train Loss: 0.685479\n",
      "Train Epoch: 9 [57600/60000(96%)]\t Train Loss: 0.721122\n",
      "\n",
      "[EPOCH: 9], \t Test Loss: 0.0146, \t Test Accuracy: 86.00 % \n",
      "\n",
      "Train Epoch: 10 [0/60000(0%)]\t Train Loss: 0.324456\n",
      "Train Epoch: 10 [6400/60000(11%)]\t Train Loss: 0.380715\n",
      "Train Epoch: 10 [12800/60000(21%)]\t Train Loss: 0.486730\n",
      "Train Epoch: 10 [19200/60000(32%)]\t Train Loss: 0.775104\n",
      "Train Epoch: 10 [25600/60000(43%)]\t Train Loss: 0.608071\n",
      "Train Epoch: 10 [32000/60000(53%)]\t Train Loss: 0.612028\n",
      "Train Epoch: 10 [38400/60000(64%)]\t Train Loss: 0.598941\n",
      "Train Epoch: 10 [44800/60000(75%)]\t Train Loss: 0.551158\n",
      "Train Epoch: 10 [51200/60000(85%)]\t Train Loss: 0.595947\n",
      "Train Epoch: 10 [57600/60000(96%)]\t Train Loss: 0.378287\n",
      "\n",
      "[EPOCH: 10], \t Test Loss: 0.0138, \t Test Accuracy: 86.76 % \n",
      "\n"
     ]
    }
   ],
   "source": [
    "''' 10. MLP training '''\n",
    "for Epoch in range (1, EPOCHS + 1):\n",
    "    train (model, train_loader, optimizer, log_interval = 200)\n",
    "    test_loss, test_accuracy = evaluate (model, test_loader)\n",
    "    print (\"\\n[EPOCH: {}], \\t Test Loss: {:.4f}, \\t Test Accuracy: {:.2f} % \\n\".format (Epoch, test_loss, test_accuracy))"
   ]
  }
 ],
 "metadata": {
  "kernelspec": {
   "display_name": "base",
   "language": "python",
   "name": "python3"
  },
  "language_info": {
   "codemirror_mode": {
    "name": "ipython",
    "version": 3
   },
   "file_extension": ".py",
   "mimetype": "text/x-python",
   "name": "python",
   "nbconvert_exporter": "python",
   "pygments_lexer": "ipython3",
   "version": "3.9.7"
  },
  "orig_nbformat": 4,
  "vscode": {
   "interpreter": {
    "hash": "f809d0b13c1ee2b6dbaece6f10197a6dda4b06b8fb5a4d2774c077606bd33080"
   }
  }
 },
 "nbformat": 4,
 "nbformat_minor": 2
}
