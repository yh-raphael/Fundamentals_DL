{
 "cells": [
  {
   "cell_type": "code",
   "execution_count": 1,
   "metadata": {},
   "outputs": [],
   "source": [
    "import numpy as np"
   ]
  },
  {
   "cell_type": "code",
   "execution_count": 4,
   "metadata": {},
   "outputs": [],
   "source": [
    "num_test = 10\n",
    "num_train = 10\n",
    "dists = np.zeros((num_test, num_train))\n"
   ]
  },
  {
   "cell_type": "code",
   "execution_count": 6,
   "metadata": {},
   "outputs": [],
   "source": [
    "for i in range(num_test):\n",
    "    for j in range(num_train):\n",
    "        dists[i, j] = i * j"
   ]
  },
  {
   "cell_type": "code",
   "execution_count": 8,
   "metadata": {},
   "outputs": [
    {
     "name": "stdout",
     "output_type": "stream",
     "text": [
      "[[ 0.  0.  0.  0.  0.  0.  0.  0.  0.  0.]\n",
      " [ 0.  1.  2.  3.  4.  5.  6.  7.  8.  9.]\n",
      " [ 0.  2.  4.  6.  8. 10. 12. 14. 16. 18.]\n",
      " [ 0.  3.  6.  9. 12. 15. 18. 21. 24. 27.]\n",
      " [ 0.  4.  8. 12. 16. 20. 24. 28. 32. 36.]\n",
      " [ 0.  5. 10. 15. 20. 25. 30. 35. 40. 45.]\n",
      " [ 0.  6. 12. 18. 24. 30. 36. 42. 48. 54.]\n",
      " [ 0.  7. 14. 21. 28. 35. 42. 49. 56. 63.]\n",
      " [ 0.  8. 16. 24. 32. 40. 48. 56. 64. 72.]\n",
      " [ 0.  9. 18. 27. 36. 45. 54. 63. 72. 81.]]\n"
     ]
    }
   ],
   "source": [
    "print (dists)"
   ]
  },
  {
   "cell_type": "code",
   "execution_count": 17,
   "metadata": {},
   "outputs": [
    {
     "name": "stdout",
     "output_type": "stream",
     "text": [
      "[ 0.  2.  4.  6.  8. 10. 12. 14. 16. 18.]\n",
      "[0. 1. 2. 3. 4. 5. 6. 7. 8. 9.]\n",
      "[ 0.  1.  4.  9. 16. 25. 36. 49. 64. 81.]\n",
      "285.0\n"
     ]
    },
    {
     "data": {
      "text/plain": [
       "16.881943016134134"
      ]
     },
     "execution_count": 17,
     "metadata": {},
     "output_type": "execute_result"
    }
   ],
   "source": [
    "print (dists[2,:])\n",
    "print(dists[3,:] - dists[2,:])\n",
    "print((dists[3,:] - dists[2,:]) ** 2)\n",
    "print(np.sum((dists[3,:] - dists[2,:]) ** 2))\n",
    "np.sqrt(np.sum((dists[3,:] - dists[2,:]) ** 2))"
   ]
  },
  {
   "cell_type": "code",
   "execution_count": 19,
   "metadata": {},
   "outputs": [
    {
     "name": "stdout",
     "output_type": "stream",
     "text": [
      "0.0\n",
      "10\n"
     ]
    }
   ],
   "source": [
    "sum = 0.0\n",
    "print (sum)\n",
    "print (len (dists[2,:]))"
   ]
  },
  {
   "cell_type": "code",
   "execution_count": 20,
   "metadata": {},
   "outputs": [
    {
     "name": "stdout",
     "output_type": "stream",
     "text": [
      "[[ 0.  0.  0.  0.  0.  0.  0.  0.  0.  0.]\n",
      " [ 0.  1.  2.  3.  4.  5.  6.  7.  8.  9.]\n",
      " [ 0.  2.  4.  6.  8. 10. 12. 14. 16. 18.]\n",
      " [ 0.  3.  6.  9. 12. 15. 18. 21. 24. 27.]\n",
      " [ 0.  4.  8. 12. 16. 20. 24. 28. 32. 36.]\n",
      " [ 0.  5. 10. 15. 20. 25. 30. 35. 40. 45.]\n",
      " [ 0.  6. 12. 18. 24. 30. 36. 42. 48. 54.]\n",
      " [ 0.  7. 14. 21. 28. 35. 42. 49. 56. 63.]\n",
      " [ 0.  8. 16. 24. 32. 40. 48. 56. 64. 72.]\n",
      " [ 0.  9. 18. 27. 36. 45. 54. 63. 72. 81.]]\n"
     ]
    }
   ],
   "source": [
    "print (dists)"
   ]
  },
  {
   "cell_type": "code",
   "execution_count": 43,
   "metadata": {},
   "outputs": [
    {
     "name": "stdout",
     "output_type": "stream",
     "text": [
      "[[ 1.14000000e+03  2.85000000e+02  0.00000000e+00  4.34559214e+68\n",
      "   1.14000000e+03  2.56500000e+03  4.56000000e+03  7.12500000e+03\n",
      "   1.02600000e+04  1.39650000e+04]\n",
      " [ 1.14000000e+03  2.84000000e+02 -2.00000000e+00  4.34559214e+68\n",
      "   1.13600000e+03  2.56000000e+03  4.55400000e+03  7.11800000e+03\n",
      "   1.02520000e+04  1.39560000e+04]\n",
      " [ 1.14000000e+03  2.83000000e+02 -4.00000000e+00  4.34559214e+68\n",
      "   1.13200000e+03  2.55500000e+03  4.54800000e+03  7.11100000e+03\n",
      "   1.02440000e+04  1.39470000e+04]\n",
      " [ 0.00000000e+00  0.00000000e+00  0.00000000e+00  0.00000000e+00\n",
      "   0.00000000e+00  0.00000000e+00  0.00000000e+00  0.00000000e+00\n",
      "   0.00000000e+00  0.00000000e+00]\n",
      " [ 1.14000000e+03  2.81000000e+02 -8.00000000e+00  4.34559214e+68\n",
      "   1.12400000e+03  2.54500000e+03  4.53600000e+03  7.09700000e+03\n",
      "   1.02280000e+04  1.39290000e+04]\n",
      " [ 1.14000000e+03  2.80000000e+02 -1.00000000e+01  4.34559214e+68\n",
      "   1.12000000e+03  2.54000000e+03  4.53000000e+03  7.09000000e+03\n",
      "   1.02200000e+04  1.39200000e+04]\n",
      " [ 1.14000000e+03  2.79000000e+02 -1.20000000e+01  4.34559214e+68\n",
      "   1.11600000e+03  2.53500000e+03  4.52400000e+03  7.08300000e+03\n",
      "   1.02120000e+04  1.39110000e+04]\n",
      " [ 1.14000000e+03  2.78000000e+02 -1.40000000e+01  4.34559214e+68\n",
      "   1.11200000e+03  2.53000000e+03  4.51800000e+03  7.07600000e+03\n",
      "   1.02040000e+04  1.39020000e+04]\n",
      " [ 1.14000000e+03  2.77000000e+02 -1.60000000e+01  4.34559214e+68\n",
      "   1.10800000e+03  2.52500000e+03  4.51200000e+03  7.06900000e+03\n",
      "   1.01960000e+04  1.38930000e+04]\n",
      " [ 1.14000000e+03  2.76000000e+02 -1.80000000e+01  4.34559214e+68\n",
      "   1.10400000e+03  2.52000000e+03  4.50600000e+03  7.06200000e+03\n",
      "   1.01880000e+04  1.38840000e+04]]\n",
      "[4.34559214e+68 4.34559214e+68 4.34559214e+68 0.00000000e+00\n",
      " 4.34559214e+68 4.34559214e+68 4.34559214e+68 4.34559214e+68\n",
      " 4.34559214e+68 4.34559214e+68]\n"
     ]
    }
   ],
   "source": [
    "print(dists[3, :] - dists)\n",
    "print(np.sum((dists[3, :] - dists), axis=1))\n",
    "# print (type (((dists[2, :] - dists)**2)))\n",
    "# print (np.sum((dists[2, :] - dists)**2))\n",
    "# dists[3, :] = np.sum((dists[2, :] - dists)**2, axis = 1)\n",
    "# print (dists[3, :])\n",
    "\n",
    "# print (np.sqrt(np.sum((dists[2, :] - dists)**2, axis = 1)))"
   ]
  },
  {
   "cell_type": "code",
   "execution_count": 44,
   "metadata": {},
   "outputs": [
    {
     "name": "stdout",
     "output_type": "stream",
     "text": [
      "[[0. 0. 0.]\n",
      " [0. 0. 0.]\n",
      " [0. 0. 0.]]\n",
      "<class 'numpy.ndarray'>\n"
     ]
    }
   ],
   "source": [
    "hi = np.zeros((3,3))\n",
    "print (hi)\n",
    "print (type (hi))"
   ]
  },
  {
   "cell_type": "code",
   "execution_count": 48,
   "metadata": {},
   "outputs": [
    {
     "name": "stdout",
     "output_type": "stream",
     "text": [
      "[]\n",
      "[1]\n",
      "[1, 2]\n"
     ]
    }
   ],
   "source": [
    "a =list()\n",
    "print (a)\n",
    "a.append(1)\n",
    "print (a)\n",
    "a.append(2)\n",
    "print (a)"
   ]
  },
  {
   "cell_type": "code",
   "execution_count": 62,
   "metadata": {},
   "outputs": [
    {
     "name": "stdout",
     "output_type": "stream",
     "text": [
      "(2, 3)\n",
      "(3, 2)\n",
      "[[22 28]\n",
      " [49 64]]\n",
      "(2, 2)\n"
     ]
    }
   ],
   "source": [
    "a = np.array([[1,2,3],\n",
    "              [4,5,6]])\n",
    "b = np.array([[1,2],\n",
    "              [3,4],\n",
    "              [5,6]])\n",
    "\n",
    "print (a.shape)\n",
    "print (b.shape)\n",
    "print (np.dot (a, b))\n",
    "print (np.dot (a, b).shape)"
   ]
  },
  {
   "cell_type": "code",
   "execution_count": 81,
   "metadata": {},
   "outputs": [
    {
     "name": "stdout",
     "output_type": "stream",
     "text": [
      "(2, 1)\n",
      "(12,)\n",
      "[[ 8  9  8  9 10 11 10 11 12 13 12 13]\n",
      " [ 3  4  3  4  5  6  5  6  7  8  7  8]]\n",
      "(50, 500)\n"
     ]
    }
   ],
   "source": [
    "a = np.array ([[7],\n",
    "               [2]])\n",
    "print (a.shape)\n",
    "b = np.array([1,2,1,2, 3,4,3,4, 5,6,5,6])\n",
    "print (b.shape)\n",
    "print (a+b)\n",
    "\n",
    "abc = np.zeros ((50,500))\n",
    "print (abc.shape)"
   ]
  }
 ],
 "metadata": {
  "kernelspec": {
   "display_name": "cs231n",
   "language": "python",
   "name": "python3"
  },
  "language_info": {
   "codemirror_mode": {
    "name": "ipython",
    "version": 3
   },
   "file_extension": ".py",
   "mimetype": "text/x-python",
   "name": "python",
   "nbconvert_exporter": "python",
   "pygments_lexer": "ipython3",
   "version": "3.7.16"
  },
  "orig_nbformat": 4
 },
 "nbformat": 4,
 "nbformat_minor": 2
}
