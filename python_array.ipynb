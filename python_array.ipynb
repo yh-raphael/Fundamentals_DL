{
 "cells": [
  {
   "cell_type": "code",
   "execution_count": 1,
   "metadata": {},
   "outputs": [],
   "source": [
    "import numpy as np"
   ]
  },
  {
   "cell_type": "code",
   "execution_count": 2,
   "metadata": {},
   "outputs": [],
   "source": [
    "num_test = 10\n",
    "num_train = 10\n",
    "dists = np.zeros((num_test, num_train))\n"
   ]
  },
  {
   "cell_type": "code",
   "execution_count": 3,
   "metadata": {},
   "outputs": [],
   "source": [
    "for i in range(num_test):\n",
    "    for j in range(num_train):\n",
    "        dists[i, j] = i * j"
   ]
  },
  {
   "cell_type": "code",
   "execution_count": 16,
   "metadata": {},
   "outputs": [
    {
     "name": "stdout",
     "output_type": "stream",
     "text": [
      "[[ 0.  0.  0.  0.  0.  0.  0.  0.  0.  0.]\n",
      " [ 0.  1.  2.  3.  4.  5.  6.  7.  8.  9.]\n",
      " [ 0.  2.  4.  6.  8. 10. 12. 14. 16. 18.]\n",
      " [ 0.  3.  6.  9. 12. 15. 18. 21. 24. 27.]\n",
      " [ 0.  4.  8. 12. 16. 20. 24. 28. 32. 36.]\n",
      " [ 0.  5. 10. 15. 20. 25. 30. 35. 40. 45.]\n",
      " [ 0.  6. 12. 18. 24. 30. 36. 42. 48. 54.]\n",
      " [ 0.  7. 14. 21. 28. 35. 42. 49. 56. 63.]\n",
      " [ 0.  8. 16. 24. 32. 40. 48. 56. 64. 72.]\n",
      " [ 0.  9. 18. 27. 36. 45. 54. 63. 72. 81.]]\n",
      "\n",
      "9.0\n",
      "81.0\n",
      "81.0\n"
     ]
    }
   ],
   "source": [
    "print (dists)\n",
    "print ()\n",
    "print (dists[3,3])\n",
    "\n",
    "a = dists[3,3] ** 2\n",
    "b = dists[3,3] * dists[3,3]\n",
    "\n",
    "print (a)\n",
    "print (b)"
   ]
  },
  {
   "cell_type": "code",
   "execution_count": 5,
   "metadata": {},
   "outputs": [
    {
     "name": "stdout",
     "output_type": "stream",
     "text": [
      "[ 0.  2.  4.  6.  8. 10. 12. 14. 16. 18.]\n",
      "[0. 1. 2. 3. 4. 5. 6. 7. 8. 9.]\n",
      "[ 0.  1.  4.  9. 16. 25. 36. 49. 64. 81.]\n",
      "285.0\n"
     ]
    },
    {
     "data": {
      "text/plain": [
       "16.881943016134134"
      ]
     },
     "execution_count": 5,
     "metadata": {},
     "output_type": "execute_result"
    }
   ],
   "source": [
    "print (dists[2,:])\n",
    "print(dists[3,:] - dists[2,:])\n",
    "print((dists[3,:] - dists[2,:]) ** 2)\n",
    "print(np.sum((dists[3,:] - dists[2,:]) ** 2))\n",
    "np.sqrt(np.sum((dists[3,:] - dists[2,:]) ** 2))"
   ]
  },
  {
   "cell_type": "code",
   "execution_count": 6,
   "metadata": {},
   "outputs": [
    {
     "name": "stdout",
     "output_type": "stream",
     "text": [
      "0.0\n",
      "10\n"
     ]
    }
   ],
   "source": [
    "sum = 0.0\n",
    "print (sum)\n",
    "print (len (dists[2,:]))"
   ]
  },
  {
   "cell_type": "code",
   "execution_count": 7,
   "metadata": {},
   "outputs": [
    {
     "name": "stdout",
     "output_type": "stream",
     "text": [
      "[[ 0.  0.  0.  0.  0.  0.  0.  0.  0.  0.]\n",
      " [ 0.  1.  2.  3.  4.  5.  6.  7.  8.  9.]\n",
      " [ 0.  2.  4.  6.  8. 10. 12. 14. 16. 18.]\n",
      " [ 0.  3.  6.  9. 12. 15. 18. 21. 24. 27.]\n",
      " [ 0.  4.  8. 12. 16. 20. 24. 28. 32. 36.]\n",
      " [ 0.  5. 10. 15. 20. 25. 30. 35. 40. 45.]\n",
      " [ 0.  6. 12. 18. 24. 30. 36. 42. 48. 54.]\n",
      " [ 0.  7. 14. 21. 28. 35. 42. 49. 56. 63.]\n",
      " [ 0.  8. 16. 24. 32. 40. 48. 56. 64. 72.]\n",
      " [ 0.  9. 18. 27. 36. 45. 54. 63. 72. 81.]]\n"
     ]
    }
   ],
   "source": [
    "print (dists)"
   ]
  },
  {
   "cell_type": "code",
   "execution_count": 8,
   "metadata": {},
   "outputs": [
    {
     "name": "stdout",
     "output_type": "stream",
     "text": [
      "[[  0.   3.   6.   9.  12.  15.  18.  21.  24.  27.]\n",
      " [  0.   2.   4.   6.   8.  10.  12.  14.  16.  18.]\n",
      " [  0.   1.   2.   3.   4.   5.   6.   7.   8.   9.]\n",
      " [  0.   0.   0.   0.   0.   0.   0.   0.   0.   0.]\n",
      " [  0.  -1.  -2.  -3.  -4.  -5.  -6.  -7.  -8.  -9.]\n",
      " [  0.  -2.  -4.  -6.  -8. -10. -12. -14. -16. -18.]\n",
      " [  0.  -3.  -6.  -9. -12. -15. -18. -21. -24. -27.]\n",
      " [  0.  -4.  -8. -12. -16. -20. -24. -28. -32. -36.]\n",
      " [  0.  -5. -10. -15. -20. -25. -30. -35. -40. -45.]\n",
      " [  0.  -6. -12. -18. -24. -30. -36. -42. -48. -54.]]\n",
      "[ 135.   90.   45.    0.  -45.  -90. -135. -180. -225. -270.]\n"
     ]
    }
   ],
   "source": [
    "print(dists[3, :] - dists)\n",
    "print(np.sum((dists[3, :] - dists), axis=1))\n",
    "# print (type (((dists[2, :] - dists)**2)))\n",
    "# print (np.sum((dists[2, :] - dists)**2))\n",
    "# dists[3, :] = np.sum((dists[2, :] - dists)**2, axis = 1)\n",
    "# print (dists[3, :])\n",
    "\n",
    "# print (np.sqrt(np.sum((dists[2, :] - dists)**2, axis = 1)))"
   ]
  },
  {
   "cell_type": "code",
   "execution_count": 9,
   "metadata": {},
   "outputs": [
    {
     "name": "stdout",
     "output_type": "stream",
     "text": [
      "[[0. 0. 0.]\n",
      " [0. 0. 0.]\n",
      " [0. 0. 0.]]\n",
      "<class 'numpy.ndarray'>\n"
     ]
    }
   ],
   "source": [
    "hi = np.zeros((3,3))\n",
    "print (hi)\n",
    "print (type (hi))"
   ]
  },
  {
   "cell_type": "code",
   "execution_count": 10,
   "metadata": {},
   "outputs": [
    {
     "name": "stdout",
     "output_type": "stream",
     "text": [
      "[]\n",
      "[1]\n",
      "[1, 2]\n"
     ]
    }
   ],
   "source": [
    "a =list()\n",
    "print (a)\n",
    "a.append(1)\n",
    "print (a)\n",
    "a.append(2)\n",
    "print (a)"
   ]
  },
  {
   "cell_type": "code",
   "execution_count": 11,
   "metadata": {},
   "outputs": [
    {
     "name": "stdout",
     "output_type": "stream",
     "text": [
      "(2, 3)\n",
      "(3, 2)\n",
      "[[22 28]\n",
      " [49 64]]\n",
      "(2, 2)\n"
     ]
    }
   ],
   "source": [
    "a = np.array([[1,2,3],\n",
    "              [4,5,6]])\n",
    "b = np.array([[1,2],\n",
    "              [3,4],\n",
    "              [5,6]])\n",
    "\n",
    "print (a.shape)\n",
    "print (b.shape)\n",
    "print (np.dot (a, b))\n",
    "print (np.dot (a, b).shape)"
   ]
  },
  {
   "cell_type": "code",
   "execution_count": 12,
   "metadata": {},
   "outputs": [
    {
     "name": "stdout",
     "output_type": "stream",
     "text": [
      "(2, 1)\n",
      "(12,)\n",
      "[[ 8  9  8  9 10 11 10 11 12 13 12 13]\n",
      " [ 3  4  3  4  5  6  5  6  7  8  7  8]]\n",
      "(50, 500)\n"
     ]
    }
   ],
   "source": [
    "a = np.array ([[7],\n",
    "               [2]])\n",
    "print (a.shape)\n",
    "b = np.array([1,2,1,2, 3,4,3,4, 5,6,5,6])\n",
    "print (b.shape)\n",
    "print (a+b)\n",
    "\n",
    "abc = np.zeros ((50,500))\n",
    "print (abc.shape)"
   ]
  },
  {
   "cell_type": "code",
   "execution_count": 13,
   "metadata": {},
   "outputs": [
    {
     "name": "stdout",
     "output_type": "stream",
     "text": [
      "3.0\n"
     ]
    }
   ],
   "source": [
    "a = 0\n",
    "b = 3.0\n",
    "c = max (a, b)\n",
    "print (c)"
   ]
  },
  {
   "cell_type": "code",
   "execution_count": 14,
   "metadata": {},
   "outputs": [
    {
     "name": "stdout",
     "output_type": "stream",
     "text": [
      "(3, 2)\n",
      "(3,)\n",
      "(3, 1)\n",
      "[1 2 3]\n",
      "[[1 2]\n",
      " [3 4]\n",
      " [5 6]]\n",
      "[[1]\n",
      " [2]\n",
      " [3]]\n",
      "c.shape:  (3, 2)\n",
      "[[0 1]\n",
      " [1 2]\n",
      " [2 3]]\n",
      "d.shape:  (3, 2)\n",
      "[[1.         2.        ]\n",
      " [1.5        2.        ]\n",
      " [1.66666667 2.        ]]\n"
     ]
    }
   ],
   "source": [
    "a = np.array([[1,2],\n",
    "              [3,4],\n",
    "              [5,6]])\n",
    "b = np.array([1,2,3])\n",
    "print (a.shape)\n",
    "print (b.shape)\n",
    "print (b[...,np.newaxis].shape)\n",
    "print (b)\n",
    "print (a)\n",
    "print (b[...,np.newaxis])\n",
    "\n",
    "c = a - b[...,np.newaxis]\n",
    "print (\"c.shape: \", c.shape)\n",
    "print (c)\n",
    "\n",
    "d = a / b[...,np.newaxis]\n",
    "print (\"d.shape: \", d.shape)\n",
    "print (d)"
   ]
  }
 ],
 "metadata": {
  "kernelspec": {
   "display_name": "cs231n",
   "language": "python",
   "name": "python3"
  },
  "language_info": {
   "codemirror_mode": {
    "name": "ipython",
    "version": 3
   },
   "file_extension": ".py",
   "mimetype": "text/x-python",
   "name": "python",
   "nbconvert_exporter": "python",
   "pygments_lexer": "ipython3",
   "version": "3.7.16"
  },
  "orig_nbformat": 4
 },
 "nbformat": 4,
 "nbformat_minor": 2
}
